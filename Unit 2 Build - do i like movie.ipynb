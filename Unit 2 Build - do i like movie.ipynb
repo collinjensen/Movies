{
 "cells": [
  {
   "cell_type": "markdown",
   "metadata": {},
   "source": [
    "# libraries"
   ]
  },
  {
   "cell_type": "code",
   "execution_count": 1,
   "metadata": {},
   "outputs": [],
   "source": [
    "import pandas as pd\n",
    "import numpy as np\n",
    "import matplotlib.pyplot as plt\n",
    "import gzip\n",
    "import requests\n",
    "from sklearn.preprocessing import OrdinalEncoder\n",
    "from sklearn.preprocessing import OneHotEncoder\n",
    "from sklearn.metrics import plot_confusion_matrix\n",
    "from sklearn.ensemble import RandomForestClassifier\n",
    "from sklearn.linear_model import LogisticRegressionCV\n",
    "from sklearn.tree import DecisionTreeClassifier\n",
    "from sklearn.metrics import accuracy_score\n",
    "from sklearn.metrics import classification_report"
   ]
  },
  {
   "cell_type": "markdown",
   "metadata": {},
   "source": [
    "# fetching data"
   ]
  },
  {
   "cell_type": "code",
   "execution_count": 2,
   "metadata": {},
   "outputs": [
    {
     "name": "stderr",
     "output_type": "stream",
     "text": [
      "C:\\Users\\colli\\anaconda3\\lib\\site-packages\\IPython\\core\\interactiveshell.py:3071: DtypeWarning: Columns (7) have mixed types.Specify dtype option on import or set low_memory=False.\n",
      "  has_raised = await self.run_ast_nodes(code_ast.body, cell_name,\n",
      "C:\\Users\\colli\\anaconda3\\lib\\site-packages\\IPython\\core\\interactiveshell.py:3071: DtypeWarning: Columns (4,5) have mixed types.Specify dtype option on import or set low_memory=False.\n",
      "  has_raised = await self.run_ast_nodes(code_ast.body, cell_name,\n"
     ]
    }
   ],
   "source": [
    "# These are the URLs for IMDb's datasets\n",
    "imdb_com = 'https://datasets.imdbws.com/'\n",
    "urls = {'name':'name.basics.tsv.gz',\n",
    "        'title_aka':'title.akas.tsv.gz',\n",
    "        'title':'title.basics.tsv.gz',\n",
    "        'crew':'title.crew.tsv.gz',\n",
    "        'principals':'title.principals.tsv.gz',\n",
    "        'ratings':'title.ratings.tsv.gz'}\n",
    "urls_list = list(urls)\n",
    "urls_values = list(urls.values())\n",
    "\n",
    "# fetching the files, unzipping them, and making a dataframe\n",
    "name_f = requests.get((imdb_com + urls_values[0]))\n",
    "open(urls_values[0], 'wb').write(name_f.content)\n",
    "with gzip.open(urls_values[0]) as x:\n",
    "    df_name = pd.read_csv(x, sep='\\t')\n",
    "# bullshit\n",
    "title_aka_f = requests.get((imdb_com + urls_values[1]))\n",
    "open(urls_values[1], 'wb').write(title_aka_f.content)\n",
    "with gzip.open(urls_values[1]) as x:\n",
    "    df_title_aka = pd.read_csv(x, sep='\\t')\n",
    "# I swear I wanted to create a function\n",
    "title_f = requests.get((imdb_com + urls_values[2]))\n",
    "open(urls_values[2], 'wb').write(title_f.content)\n",
    "with gzip.open(urls_values[2]) as x:\n",
    "    df_title = pd.read_csv(x, sep='\\t')\n",
    "# I just couldn't figure it out\n",
    "crew_f = requests.get((imdb_com + urls_values[3]))\n",
    "open(urls_values[3], 'wb').write(crew_f.content)\n",
    "with gzip.open(urls_values[3]) as x:\n",
    "    df_crew = pd.read_csv(x, sep='\\t')\n",
    "# something about creating a variable name by modifying the input...\n",
    "principals_f = requests.get((imdb_com + urls_values[4]))\n",
    "open(urls_values[4], 'wb').write(principals_f.content)\n",
    "with gzip.open(urls_values[4]) as x:\n",
    "    df_principals = pd.read_csv(x, sep='\\t')\n",
    "# s;dlfkas;dkfjas;dkfja;sldkfja;sdlkfja;sldkfjalook at my im codinga;sdlkf a;sdlkfja;slkd\n",
    "ratings_f = requests.get((imdb_com + urls_values[5]))\n",
    "open(urls_values[5], 'wb').write(ratings_f.content)\n",
    "with gzip.open(urls_values[5]) as x:\n",
    "    df_ratings = pd.read_csv(x, sep='\\t')\n",
    "\n",
    "# these are useless\n",
    "df_title = df_title[df_title['titleType'].isin(['movie', 'tvMovie', 'tvSpecial'])]\n",
    "\n",
    "# reading in a csv with my movies, their tconst, and a personal rating\n",
    "df_collin = pd.read_csv('https://docs.google.com/spreadsheets/d/1C5fA7ID3iLk5Dp6h6HDebzmXvHvT0iumepx62feYD00/export?format=csv&id=1C5fA7ID3iLk5Dp6h6HDebzmXvHvT0iumepx62feYD00&gid=2115756143')\n",
    "\n",
    "# then dropping columns I only needed so I can add movies easily in the future\n",
    "df_collin = df_collin.drop(columns=['primaryTitle', 'startYear'])\n",
    "\n",
    "# creating a list of tconst IDs for movies I've seen\n",
    "seen_list = list(df_collin['tconst'])\n",
    "\n",
    "# merging personal ratings with IMDb ratings\n",
    "df_ratings = pd.merge(df_ratings, df_collin, how='left', on='tconst')\n",
    "\n",
    "# creating a subset of each useful IMDb dataset with only the movies I've seen\n",
    "seen_title = df_title[df_title['tconst'].isin(seen_list)]\n",
    "seen_crew = df_crew[df_crew['tconst'].isin(seen_list)]\n",
    "seen_ratings = df_ratings[df_ratings['tconst'].isin(seen_list)]\n",
    "seen_principals = df_principals[df_principals['tconst'].isin(seen_list)]\n",
    "\n",
    "seen_crew = seen_crew.reset_index()\n",
    "seen_crew = seen_crew.drop(columns=['index'])\n",
    "\n",
    "# just changing '\\N' to 'not applicable'\n",
    "for x in range(0, len(seen_crew['writers'])):\n",
    "    if seen_crew['writers'][x] == '\\\\N':\n",
    "        seen_crew['writers'][x] = 'not applicable'"
   ]
  },
  {
   "cell_type": "markdown",
   "metadata": {},
   "source": [
    "# functions"
   ]
  },
  {
   "cell_type": "code",
   "execution_count": 3,
   "metadata": {},
   "outputs": [],
   "source": [
    "# list of all valid names\n",
    "valid_names = list(df_name['nconst'])\n",
    "\n",
    "# function to get the name from a person tconst\n",
    "def get_name(name):\n",
    "    if name in valid_names:\n",
    "        actual_name = df_name.loc[(df_name['nconst'] == name)]['primaryName'].iloc[0]\n",
    "    else: actual_name = name+'(??)'\n",
    "    return actual_name\n",
    "\n",
    "# function to get names of all nconsts in a list\n",
    "def get_names(names):\n",
    "    output = []\n",
    "    for x in names:\n",
    "        output.append(get_name(x))\n",
    "    return output\n",
    "\n",
    "# function to nconst of primary actors in a film tconst\n",
    "def get_actors(title):\n",
    "    title_df = df_principals.loc[(df_principals['category'].isin(['actor', 'actress']))\n",
    "                        & (df_principals['tconst'] == title)]\n",
    "    return list(title_df['nconst'])\n",
    "\n",
    "# function to get nconst of primary directors in a film tconst\n",
    "def get_directors(title):\n",
    "    title_df = df_crew.loc[(df_crew['tconst'] == title)]\n",
    "    return list(title_df['directors'])[0].split(',')\n",
    "\n",
    "# function to get nconst of primary writers in a film tconst\n",
    "def get_writers(title):\n",
    "    title_df = df_crew.loc[(df_crew['tconst'] == title)]\n",
    "    return list(title_df['writers'])[0].split(',')\n",
    "\n",
    "# function to get the title from a film tconst\n",
    "def get_title(title):\n",
    "    actual_title = df_title.loc[(df_title['tconst'] == title)]['primaryTitle'].iloc[0]\n",
    "    return actual_title"
   ]
  },
  {
   "cell_type": "markdown",
   "metadata": {},
   "source": [
    "# encoding"
   ]
  },
  {
   "cell_type": "code",
   "execution_count": 4,
   "metadata": {
    "scrolled": true
   },
   "outputs": [
    {
     "name": "stderr",
     "output_type": "stream",
     "text": [
      "<ipython-input-4-9bd600dbced8>:25: SettingWithCopyWarning: \n",
      "A value is trying to be set on a copy of a slice from a DataFrame\n",
      "\n",
      "See the caveats in the documentation: https://pandas.pydata.org/pandas-docs/stable/user_guide/indexing.html#returning-a-view-versus-a-copy\n",
      "  seen_title_expanded['genres'][x] = seen_title_expanded['genres'][x].split(',')\n",
      "<ipython-input-4-9bd600dbced8>:31: SettingWithCopyWarning: \n",
      "A value is trying to be set on a copy of a slice from a DataFrame\n",
      "\n",
      "See the caveats in the documentation: https://pandas.pydata.org/pandas-docs/stable/user_guide/indexing.html#returning-a-view-versus-a-copy\n",
      "  seen_title_expanded[z][x] = 1\n",
      "<ipython-input-4-9bd600dbced8>:48: SettingWithCopyWarning: \n",
      "A value is trying to be set on a copy of a slice from a DataFrame\n",
      "\n",
      "See the caveats in the documentation: https://pandas.pydata.org/pandas-docs/stable/user_guide/indexing.html#returning-a-view-versus-a-copy\n",
      "  seen_title_expanded[z][x] = 1\n"
     ]
    }
   ],
   "source": [
    "# creating a dataframe with additional features from IMDb (writers, directors...)\n",
    "seen_title_expanded = pd.merge(seen_title, seen_crew, on='tconst')\n",
    "seen_title_expanded = seen_title_expanded.drop(columns=['originalTitle', 'titleType', 'writers'])\n",
    "\n",
    "# creating a list inside each cell so I can use the get_names function\n",
    "for x in range(0, len(seen_title_expanded['directors'])):\n",
    "    seen_title_expanded['directors'][x] = seen_title_expanded['directors'][x].split(',')\n",
    "    \n",
    "# changing all name IDs to real names\n",
    "for x in range(0, len(seen_title_expanded['directors'])):\n",
    "    if seen_title_expanded['directors'][x][0][0:2] == 'nm':\n",
    "        seen_title_expanded['directors'][x] = get_names(seen_title_expanded['directors'][x])\n",
    "        \n",
    "### genres ###\n",
    "\n",
    "# creating a list of all genres I've seen\n",
    "all_genres = pd.Series(str(list(seen_title_expanded['genres'])).replace('\\'', '').replace(' ', '').replace(',', ' ').strip('[]').split(' '))\n",
    "\n",
    "# creating a column for each unique genre\n",
    "for x in all_genres.unique():\n",
    "    seen_title_expanded[x] = pd.Series([0] * all_genres.nunique() * len(seen_title_expanded['genres']))\n",
    "\n",
    "# creating a list in each cell so I can index the genres\n",
    "for x in range(0, len(seen_title_expanded['genres'])):\n",
    "    seen_title_expanded['genres'][x] = seen_title_expanded['genres'][x].split(',')\n",
    "\n",
    "# adding a 1 in each genre column for every movie that has that genre listed\n",
    "for x in range(0, len(seen_title_expanded['genres'])):\n",
    "    for y in range(0, len(seen_title_expanded['genres'][x])):\n",
    "        z = seen_title_expanded['genres'][x][y]\n",
    "        seen_title_expanded[z][x] = 1\n",
    "        \n",
    "### directors ###\n",
    "\n",
    "# creating a list of all directors I've seen\n",
    "all_directors = []\n",
    "for x in range(0, len(seen_title_expanded['directors'])):\n",
    "    for y in range(0, len(seen_title_expanded['directors'][x])):\n",
    "        all_directors.append(seen_title_expanded['directors'][x][y])\n",
    "all_directors = pd.Series(all_directors)\n",
    "for x in all_directors.unique():\n",
    "    seen_title_expanded[x] = pd.Series([0] * all_directors.nunique() * len(seen_title_expanded['directors']))\n",
    "\n",
    "# adding a 1 in each genre column for every movie that has that director listed\n",
    "for x in range(0, len(seen_title_expanded['directors'])):\n",
    "    for y in range(0, len(seen_title_expanded['directors'][x])):\n",
    "        z = seen_title_expanded['directors'][x][y]\n",
    "        seen_title_expanded[z][x] = 1\n",
    "        \n",
    "# I did the same thing for writers but it wasn't very useful and I decided to leave it out"
   ]
  },
  {
   "cell_type": "markdown",
   "metadata": {},
   "source": [
    "# modeling"
   ]
  },
  {
   "cell_type": "markdown",
   "metadata": {},
   "source": [
    "baseline, baseline, baseline"
   ]
  },
  {
   "cell_type": "code",
   "execution_count": 5,
   "metadata": {},
   "outputs": [
    {
     "name": "stdout",
     "output_type": "stream",
     "text": [
      "0.74\n"
     ]
    }
   ],
   "source": [
    "baseline = round((seen_ratings['wasWorth'].value_counts(normalize=True)[1]), 2)\n",
    "print(baseline)"
   ]
  },
  {
   "cell_type": "code",
   "execution_count": 6,
   "metadata": {},
   "outputs": [],
   "source": [
    "# adding ratings features to the expanded dataframe\n",
    "seen_title_expanded = pd.merge(seen_title_expanded, seen_ratings, on='tconst')\n",
    "seen_title_expanded.index = seen_title_expanded['tconst']\n",
    "seen_title_expanded = seen_title_expanded.drop(columns=['tconst', 'isAdult', 'endYear', 'primaryTitle', 'genres', 'directors', 'personalRating', 'seen'])\n",
    "seen_title_expanded['startYear'] = seen_title_expanded['startYear'].astype(int)\n",
    "seen_title_expanded['runtimeMinutes'] = seen_title_expanded['runtimeMinutes'].astype(int)\n",
    "seen_title_expanded['wasWorth'] = seen_title_expanded['wasWorth'].astype(int)"
   ]
  },
  {
   "cell_type": "code",
   "execution_count": 7,
   "metadata": {},
   "outputs": [],
   "source": [
    "# train, validate, test sets\n",
    "test = seen_title_expanded.sample(70, random_state=49)\n",
    "train_val = seen_title_expanded.drop(test.index)\n",
    "val = train_val.sample(70, random_state=49)\n",
    "train = train_val.drop(val.index)\n",
    "\n",
    "X_train = train.drop(columns=['wasWorth', 'numVotes'])\n",
    "y_train = train['wasWorth']\n",
    "\n",
    "X_val = val.drop(columns=['wasWorth', 'numVotes'])\n",
    "y_val = val['wasWorth']\n",
    "\n",
    "X_test = test.drop(columns=['wasWorth', 'numVotes'])\n",
    "y_test = test['wasWorth']"
   ]
  },
  {
   "cell_type": "code",
   "execution_count": 8,
   "metadata": {},
   "outputs": [
    {
     "name": "stderr",
     "output_type": "stream",
     "text": [
      "C:\\Users\\colli\\anaconda3\\lib\\site-packages\\sklearn\\linear_model\\_logistic.py:762: ConvergenceWarning: lbfgs failed to converge (status=1):\n",
      "STOP: TOTAL NO. of ITERATIONS REACHED LIMIT.\n",
      "\n",
      "Increase the number of iterations (max_iter) or scale the data as shown in:\n",
      "    https://scikit-learn.org/stable/modules/preprocessing.html\n",
      "Please also refer to the documentation for alternative solver options:\n",
      "    https://scikit-learn.org/stable/modules/linear_model.html#logistic-regression\n",
      "  n_iter_i = _check_optimize_result(\n",
      "C:\\Users\\colli\\anaconda3\\lib\\site-packages\\sklearn\\linear_model\\_logistic.py:762: ConvergenceWarning: lbfgs failed to converge (status=1):\n",
      "STOP: TOTAL NO. of ITERATIONS REACHED LIMIT.\n",
      "\n",
      "Increase the number of iterations (max_iter) or scale the data as shown in:\n",
      "    https://scikit-learn.org/stable/modules/preprocessing.html\n",
      "Please also refer to the documentation for alternative solver options:\n",
      "    https://scikit-learn.org/stable/modules/linear_model.html#logistic-regression\n",
      "  n_iter_i = _check_optimize_result(\n",
      "C:\\Users\\colli\\anaconda3\\lib\\site-packages\\sklearn\\linear_model\\_logistic.py:762: ConvergenceWarning: lbfgs failed to converge (status=1):\n",
      "STOP: TOTAL NO. of ITERATIONS REACHED LIMIT.\n",
      "\n",
      "Increase the number of iterations (max_iter) or scale the data as shown in:\n",
      "    https://scikit-learn.org/stable/modules/preprocessing.html\n",
      "Please also refer to the documentation for alternative solver options:\n",
      "    https://scikit-learn.org/stable/modules/linear_model.html#logistic-regression\n",
      "  n_iter_i = _check_optimize_result(\n",
      "C:\\Users\\colli\\anaconda3\\lib\\site-packages\\sklearn\\linear_model\\_logistic.py:762: ConvergenceWarning: lbfgs failed to converge (status=1):\n",
      "STOP: TOTAL NO. of ITERATIONS REACHED LIMIT.\n",
      "\n",
      "Increase the number of iterations (max_iter) or scale the data as shown in:\n",
      "    https://scikit-learn.org/stable/modules/preprocessing.html\n",
      "Please also refer to the documentation for alternative solver options:\n",
      "    https://scikit-learn.org/stable/modules/linear_model.html#logistic-regression\n",
      "  n_iter_i = _check_optimize_result(\n",
      "C:\\Users\\colli\\anaconda3\\lib\\site-packages\\sklearn\\linear_model\\_logistic.py:762: ConvergenceWarning: lbfgs failed to converge (status=1):\n",
      "STOP: TOTAL NO. of ITERATIONS REACHED LIMIT.\n",
      "\n",
      "Increase the number of iterations (max_iter) or scale the data as shown in:\n",
      "    https://scikit-learn.org/stable/modules/preprocessing.html\n",
      "Please also refer to the documentation for alternative solver options:\n",
      "    https://scikit-learn.org/stable/modules/linear_model.html#logistic-regression\n",
      "  n_iter_i = _check_optimize_result(\n",
      "C:\\Users\\colli\\anaconda3\\lib\\site-packages\\sklearn\\linear_model\\_logistic.py:762: ConvergenceWarning: lbfgs failed to converge (status=1):\n",
      "STOP: TOTAL NO. of ITERATIONS REACHED LIMIT.\n",
      "\n",
      "Increase the number of iterations (max_iter) or scale the data as shown in:\n",
      "    https://scikit-learn.org/stable/modules/preprocessing.html\n",
      "Please also refer to the documentation for alternative solver options:\n",
      "    https://scikit-learn.org/stable/modules/linear_model.html#logistic-regression\n",
      "  n_iter_i = _check_optimize_result(\n",
      "C:\\Users\\colli\\anaconda3\\lib\\site-packages\\sklearn\\linear_model\\_logistic.py:762: ConvergenceWarning: lbfgs failed to converge (status=1):\n",
      "STOP: TOTAL NO. of ITERATIONS REACHED LIMIT.\n",
      "\n",
      "Increase the number of iterations (max_iter) or scale the data as shown in:\n",
      "    https://scikit-learn.org/stable/modules/preprocessing.html\n",
      "Please also refer to the documentation for alternative solver options:\n",
      "    https://scikit-learn.org/stable/modules/linear_model.html#logistic-regression\n",
      "  n_iter_i = _check_optimize_result(\n",
      "C:\\Users\\colli\\anaconda3\\lib\\site-packages\\sklearn\\linear_model\\_logistic.py:762: ConvergenceWarning: lbfgs failed to converge (status=1):\n",
      "STOP: TOTAL NO. of ITERATIONS REACHED LIMIT.\n",
      "\n",
      "Increase the number of iterations (max_iter) or scale the data as shown in:\n",
      "    https://scikit-learn.org/stable/modules/preprocessing.html\n",
      "Please also refer to the documentation for alternative solver options:\n",
      "    https://scikit-learn.org/stable/modules/linear_model.html#logistic-regression\n",
      "  n_iter_i = _check_optimize_result(\n",
      "C:\\Users\\colli\\anaconda3\\lib\\site-packages\\sklearn\\linear_model\\_logistic.py:762: ConvergenceWarning: lbfgs failed to converge (status=1):\n",
      "STOP: TOTAL NO. of ITERATIONS REACHED LIMIT.\n",
      "\n",
      "Increase the number of iterations (max_iter) or scale the data as shown in:\n",
      "    https://scikit-learn.org/stable/modules/preprocessing.html\n",
      "Please also refer to the documentation for alternative solver options:\n",
      "    https://scikit-learn.org/stable/modules/linear_model.html#logistic-regression\n",
      "  n_iter_i = _check_optimize_result(\n",
      "C:\\Users\\colli\\anaconda3\\lib\\site-packages\\sklearn\\linear_model\\_logistic.py:762: ConvergenceWarning: lbfgs failed to converge (status=1):\n",
      "STOP: TOTAL NO. of ITERATIONS REACHED LIMIT.\n",
      "\n",
      "Increase the number of iterations (max_iter) or scale the data as shown in:\n",
      "    https://scikit-learn.org/stable/modules/preprocessing.html\n",
      "Please also refer to the documentation for alternative solver options:\n",
      "    https://scikit-learn.org/stable/modules/linear_model.html#logistic-regression\n",
      "  n_iter_i = _check_optimize_result(\n",
      "C:\\Users\\colli\\anaconda3\\lib\\site-packages\\sklearn\\linear_model\\_logistic.py:762: ConvergenceWarning: lbfgs failed to converge (status=1):\n",
      "STOP: TOTAL NO. of ITERATIONS REACHED LIMIT.\n",
      "\n",
      "Increase the number of iterations (max_iter) or scale the data as shown in:\n",
      "    https://scikit-learn.org/stable/modules/preprocessing.html\n",
      "Please also refer to the documentation for alternative solver options:\n",
      "    https://scikit-learn.org/stable/modules/linear_model.html#logistic-regression\n",
      "  n_iter_i = _check_optimize_result(\n",
      "C:\\Users\\colli\\anaconda3\\lib\\site-packages\\sklearn\\linear_model\\_logistic.py:762: ConvergenceWarning: lbfgs failed to converge (status=1):\n",
      "STOP: TOTAL NO. of ITERATIONS REACHED LIMIT.\n",
      "\n",
      "Increase the number of iterations (max_iter) or scale the data as shown in:\n",
      "    https://scikit-learn.org/stable/modules/preprocessing.html\n",
      "Please also refer to the documentation for alternative solver options:\n",
      "    https://scikit-learn.org/stable/modules/linear_model.html#logistic-regression\n",
      "  n_iter_i = _check_optimize_result(\n",
      "C:\\Users\\colli\\anaconda3\\lib\\site-packages\\sklearn\\linear_model\\_logistic.py:762: ConvergenceWarning: lbfgs failed to converge (status=1):\n",
      "STOP: TOTAL NO. of ITERATIONS REACHED LIMIT.\n",
      "\n",
      "Increase the number of iterations (max_iter) or scale the data as shown in:\n",
      "    https://scikit-learn.org/stable/modules/preprocessing.html\n",
      "Please also refer to the documentation for alternative solver options:\n",
      "    https://scikit-learn.org/stable/modules/linear_model.html#logistic-regression\n",
      "  n_iter_i = _check_optimize_result(\n",
      "C:\\Users\\colli\\anaconda3\\lib\\site-packages\\sklearn\\linear_model\\_logistic.py:762: ConvergenceWarning: lbfgs failed to converge (status=1):\n",
      "STOP: TOTAL NO. of ITERATIONS REACHED LIMIT.\n",
      "\n",
      "Increase the number of iterations (max_iter) or scale the data as shown in:\n",
      "    https://scikit-learn.org/stable/modules/preprocessing.html\n",
      "Please also refer to the documentation for alternative solver options:\n",
      "    https://scikit-learn.org/stable/modules/linear_model.html#logistic-regression\n",
      "  n_iter_i = _check_optimize_result(\n",
      "C:\\Users\\colli\\anaconda3\\lib\\site-packages\\sklearn\\linear_model\\_logistic.py:762: ConvergenceWarning: lbfgs failed to converge (status=1):\n",
      "STOP: TOTAL NO. of ITERATIONS REACHED LIMIT.\n",
      "\n",
      "Increase the number of iterations (max_iter) or scale the data as shown in:\n",
      "    https://scikit-learn.org/stable/modules/preprocessing.html\n",
      "Please also refer to the documentation for alternative solver options:\n",
      "    https://scikit-learn.org/stable/modules/linear_model.html#logistic-regression\n",
      "  n_iter_i = _check_optimize_result(\n",
      "C:\\Users\\colli\\anaconda3\\lib\\site-packages\\sklearn\\linear_model\\_logistic.py:762: ConvergenceWarning: lbfgs failed to converge (status=1):\n",
      "STOP: TOTAL NO. of ITERATIONS REACHED LIMIT.\n",
      "\n",
      "Increase the number of iterations (max_iter) or scale the data as shown in:\n",
      "    https://scikit-learn.org/stable/modules/preprocessing.html\n",
      "Please also refer to the documentation for alternative solver options:\n",
      "    https://scikit-learn.org/stable/modules/linear_model.html#logistic-regression\n",
      "  n_iter_i = _check_optimize_result(\n"
     ]
    },
    {
     "name": "stderr",
     "output_type": "stream",
     "text": [
      "C:\\Users\\colli\\anaconda3\\lib\\site-packages\\sklearn\\linear_model\\_logistic.py:762: ConvergenceWarning: lbfgs failed to converge (status=1):\n",
      "STOP: TOTAL NO. of ITERATIONS REACHED LIMIT.\n",
      "\n",
      "Increase the number of iterations (max_iter) or scale the data as shown in:\n",
      "    https://scikit-learn.org/stable/modules/preprocessing.html\n",
      "Please also refer to the documentation for alternative solver options:\n",
      "    https://scikit-learn.org/stable/modules/linear_model.html#logistic-regression\n",
      "  n_iter_i = _check_optimize_result(\n",
      "C:\\Users\\colli\\anaconda3\\lib\\site-packages\\sklearn\\linear_model\\_logistic.py:762: ConvergenceWarning: lbfgs failed to converge (status=1):\n",
      "STOP: TOTAL NO. of ITERATIONS REACHED LIMIT.\n",
      "\n",
      "Increase the number of iterations (max_iter) or scale the data as shown in:\n",
      "    https://scikit-learn.org/stable/modules/preprocessing.html\n",
      "Please also refer to the documentation for alternative solver options:\n",
      "    https://scikit-learn.org/stable/modules/linear_model.html#logistic-regression\n",
      "  n_iter_i = _check_optimize_result(\n",
      "C:\\Users\\colli\\anaconda3\\lib\\site-packages\\sklearn\\linear_model\\_logistic.py:762: ConvergenceWarning: lbfgs failed to converge (status=1):\n",
      "STOP: TOTAL NO. of ITERATIONS REACHED LIMIT.\n",
      "\n",
      "Increase the number of iterations (max_iter) or scale the data as shown in:\n",
      "    https://scikit-learn.org/stable/modules/preprocessing.html\n",
      "Please also refer to the documentation for alternative solver options:\n",
      "    https://scikit-learn.org/stable/modules/linear_model.html#logistic-regression\n",
      "  n_iter_i = _check_optimize_result(\n",
      "C:\\Users\\colli\\anaconda3\\lib\\site-packages\\sklearn\\linear_model\\_logistic.py:762: ConvergenceWarning: lbfgs failed to converge (status=1):\n",
      "STOP: TOTAL NO. of ITERATIONS REACHED LIMIT.\n",
      "\n",
      "Increase the number of iterations (max_iter) or scale the data as shown in:\n",
      "    https://scikit-learn.org/stable/modules/preprocessing.html\n",
      "Please also refer to the documentation for alternative solver options:\n",
      "    https://scikit-learn.org/stable/modules/linear_model.html#logistic-regression\n",
      "  n_iter_i = _check_optimize_result(\n",
      "C:\\Users\\colli\\anaconda3\\lib\\site-packages\\sklearn\\linear_model\\_logistic.py:762: ConvergenceWarning: lbfgs failed to converge (status=1):\n",
      "STOP: TOTAL NO. of ITERATIONS REACHED LIMIT.\n",
      "\n",
      "Increase the number of iterations (max_iter) or scale the data as shown in:\n",
      "    https://scikit-learn.org/stable/modules/preprocessing.html\n",
      "Please also refer to the documentation for alternative solver options:\n",
      "    https://scikit-learn.org/stable/modules/linear_model.html#logistic-regression\n",
      "  n_iter_i = _check_optimize_result(\n",
      "C:\\Users\\colli\\anaconda3\\lib\\site-packages\\sklearn\\linear_model\\_logistic.py:762: ConvergenceWarning: lbfgs failed to converge (status=1):\n",
      "STOP: TOTAL NO. of ITERATIONS REACHED LIMIT.\n",
      "\n",
      "Increase the number of iterations (max_iter) or scale the data as shown in:\n",
      "    https://scikit-learn.org/stable/modules/preprocessing.html\n",
      "Please also refer to the documentation for alternative solver options:\n",
      "    https://scikit-learn.org/stable/modules/linear_model.html#logistic-regression\n",
      "  n_iter_i = _check_optimize_result(\n"
     ]
    },
    {
     "name": "stdout",
     "output_type": "stream",
     "text": [
      "baseline: 0.74\n",
      "random forest classifier: 0.7571428571428571\n"
     ]
    },
    {
     "name": "stderr",
     "output_type": "stream",
     "text": [
      "C:\\Users\\colli\\anaconda3\\lib\\site-packages\\sklearn\\linear_model\\_logistic.py:762: ConvergenceWarning: lbfgs failed to converge (status=1):\n",
      "STOP: TOTAL NO. of ITERATIONS REACHED LIMIT.\n",
      "\n",
      "Increase the number of iterations (max_iter) or scale the data as shown in:\n",
      "    https://scikit-learn.org/stable/modules/preprocessing.html\n",
      "Please also refer to the documentation for alternative solver options:\n",
      "    https://scikit-learn.org/stable/modules/linear_model.html#logistic-regression\n",
      "  n_iter_i = _check_optimize_result(\n",
      "C:\\Users\\colli\\anaconda3\\lib\\site-packages\\sklearn\\linear_model\\_logistic.py:762: ConvergenceWarning: lbfgs failed to converge (status=1):\n",
      "STOP: TOTAL NO. of ITERATIONS REACHED LIMIT.\n",
      "\n",
      "Increase the number of iterations (max_iter) or scale the data as shown in:\n",
      "    https://scikit-learn.org/stable/modules/preprocessing.html\n",
      "Please also refer to the documentation for alternative solver options:\n",
      "    https://scikit-learn.org/stable/modules/linear_model.html#logistic-regression\n",
      "  n_iter_i = _check_optimize_result(\n",
      "C:\\Users\\colli\\anaconda3\\lib\\site-packages\\sklearn\\linear_model\\_logistic.py:762: ConvergenceWarning: lbfgs failed to converge (status=1):\n",
      "STOP: TOTAL NO. of ITERATIONS REACHED LIMIT.\n",
      "\n",
      "Increase the number of iterations (max_iter) or scale the data as shown in:\n",
      "    https://scikit-learn.org/stable/modules/preprocessing.html\n",
      "Please also refer to the documentation for alternative solver options:\n",
      "    https://scikit-learn.org/stable/modules/linear_model.html#logistic-regression\n",
      "  n_iter_i = _check_optimize_result(\n",
      "C:\\Users\\colli\\anaconda3\\lib\\site-packages\\sklearn\\linear_model\\_logistic.py:762: ConvergenceWarning: lbfgs failed to converge (status=1):\n",
      "STOP: TOTAL NO. of ITERATIONS REACHED LIMIT.\n",
      "\n",
      "Increase the number of iterations (max_iter) or scale the data as shown in:\n",
      "    https://scikit-learn.org/stable/modules/preprocessing.html\n",
      "Please also refer to the documentation for alternative solver options:\n",
      "    https://scikit-learn.org/stable/modules/linear_model.html#logistic-regression\n",
      "  n_iter_i = _check_optimize_result(\n"
     ]
    },
    {
     "data": {
      "image/png": "[encoded data removed]",
      "text/plain": [
       "<Figure size 432x288 with 2 Axes>"
      ]
     },
     "metadata": {
      "needs_background": "light"
     },
     "output_type": "display_data"
    }
   ],
   "source": [
    "# Logistic Regression (cross validation)\n",
    "quick_lr = LogisticRegressionCV(cv=5).fit(X_train, y_train)\n",
    "\n",
    "print('baseline:', baseline)\n",
    "print('random forest classifier:', quick_lr.score(X_val, y_val))\n",
    "\n",
    "plot_confusion_matrix(quick_lr, X_val, y_val);"
   ]
  },
  {
   "cell_type": "code",
   "execution_count": 9,
   "metadata": {},
   "outputs": [
    {
     "name": "stdout",
     "output_type": "stream",
     "text": [
      "baseline: 0.74\n",
      "decisino tree classifier: 0.7142857142857143\n"
     ]
    },
    {
     "data": {
      "image/png": "[encoded data removed]",
      "text/plain": [
       "<Figure size 432x288 with 2 Axes>"
      ]
     },
     "metadata": {
      "needs_background": "light"
     },
     "output_type": "display_data"
    }
   ],
   "source": [
    "# Decision Tree Classifier\n",
    "quick_dt = DecisionTreeClassifier(random_state=2).fit(X_train, y_train)\n",
    "\n",
    "print('baseline:', baseline)\n",
    "print('decisino tree classifier:', quick_dt.score(X_val, y_val))\n",
    "\n",
    "plot_confusion_matrix(quick_dt, X_val, y_val);"
   ]
  },
  {
   "cell_type": "code",
   "execution_count": 10,
   "metadata": {},
   "outputs": [
    {
     "name": "stdout",
     "output_type": "stream",
     "text": [
      "baseline: 0.74\n",
      "random forest classifier: 0.7714285714285715\n"
     ]
    },
    {
     "data": {
      "image/png": "[encoded data removed]",
      "text/plain": [
       "<Figure size 432x288 with 2 Axes>"
      ]
     },
     "metadata": {
      "needs_background": "light"
     },
     "output_type": "display_data"
    }
   ],
   "source": [
    "# Random Forest Classifier\n",
    "quick_rf = RandomForestClassifier(n_estimators=100, n_jobs=-1).fit(X_train, y_train)\n",
    "\n",
    "print('baseline:', baseline)\n",
    "print('random forest classifier:', quick_rf.score(X_val, y_val))\n",
    " \n",
    "plot_confusion_matrix(quick_rf, X_val, y_val);"
   ]
  },
  {
   "cell_type": "code",
   "execution_count": 66,
   "metadata": {},
   "outputs": [
    {
     "name": "stdout",
     "output_type": "stream",
     "text": [
      "              precision    recall  f1-score   support\n",
      "\n",
      "           0       0.56      0.29      0.38        17\n",
      "           1       0.80      0.92      0.86        53\n",
      "\n",
      "    accuracy                           0.77        70\n",
      "   macro avg       0.68      0.61      0.62        70\n",
      "weighted avg       0.74      0.77      0.74        70\n",
      "\n"
     ]
    }
   ],
   "source": [
    "# classification report\n",
    "y_pred = quick_rf.predict(X_val)\n",
    "print(classification_report(y_val, y_pred))"
   ]
  },
  {
   "cell_type": "code",
   "execution_count": 12,
   "metadata": {},
   "outputs": [
    {
     "name": "stdout",
     "output_type": "stream",
     "text": [
      "Chosen model test score: 0.8\n"
     ]
    }
   ],
   "source": [
    "print('Chosen model test score:', quick_rf.score(X_test, y_test))"
   ]
  },
  {
   "cell_type": "markdown",
   "metadata": {},
   "source": [
    "# more evaluating"
   ]
  },
  {
   "cell_type": "code",
   "execution_count": 62,
   "metadata": {},
   "outputs": [],
   "source": [
    "# checking feature importances\n",
    "rf_imp = pd.DataFrame(X_train.columns)\n",
    "rf_imp['importance'] = quick_rf.feature_importances_\n",
    "rf_imp = rf_imp.sort_values(by=['importance'], ascending=True)\n",
    "rf_imp_20 = rf_imp.tail(20)"
   ]
  },
  {
   "cell_type": "code",
   "execution_count": 63,
   "metadata": {},
   "outputs": [
    {
     "data": {
      "image/png": "[encoded data removed]",
      "text/plain": [
       "<Figure size 648x1152 with 1 Axes>"
      ]
     },
     "metadata": {
      "needs_background": "light"
     },
     "output_type": "display_data"
    }
   ],
   "source": [
    "plt.subplots(figsize=(9, 16))\n",
    "plt.title('Feature Importance', size=30, pad=20)\n",
    "plt.barh(rf_imp_20[0], rf_imp_20['importance'], color='b', align='center')\n",
    "plt.yticks(size=15)\n",
    "plt.xlabel('Importance', size=20)\n",
    "plt.show()"
   ]
  },
  {
   "cell_type": "markdown",
   "metadata": {},
   "source": [
    "# bonus"
   ]
  },
  {
   "cell_type": "code",
   "execution_count": 14,
   "metadata": {},
   "outputs": [
    {
     "data": {
      "text/plain": [
       "['Toy Story 2',\n",
       " 'Casino Royale',\n",
       " 'Star Wars: Episode VII - The Force Awakens',\n",
       " 'The Dark Knight',\n",
       " 'Tangled',\n",
       " 'The Incredibles',\n",
       " 'Interstellar',\n",
       " 'Harry Potter and the Order of the Phoenix',\n",
       " 'Avengers: Infinity War',\n",
       " 'Curious George',\n",
       " 'Toy Story 3',\n",
       " 'Titanic',\n",
       " 'Harry Potter and the Prisoner of Azkaban',\n",
       " 'Cars',\n",
       " 'Star Wars: Episode VIII - The Last Jedi',\n",
       " 'Baby Driver',\n",
       " 'La La Land',\n",
       " 'Avengers: Endgame',\n",
       " 'Toy Story',\n",
       " 'Dawn of the Planet of the Apes',\n",
       " 'Captain America: The Winter Soldier',\n",
       " 'Black Panther',\n",
       " 'How to Train Your Dragon 2',\n",
       " 'WALL·E',\n",
       " 'The Lego Movie',\n",
       " \"Piglet's Big Movie\",\n",
       " 'Harry Potter and the Chamber of Secrets',\n",
       " 'Skyfall',\n",
       " 'Finding Nemo',\n",
       " \"Harry Potter and the Sorcerer's Stone\",\n",
       " '22 Jump Street',\n",
       " 'Jurassic Park',\n",
       " 'Django Unchained',\n",
       " 'Toy Story 4',\n",
       " 'Spider-Man: Into the Spider-Verse',\n",
       " \"What's Eating Gilbert Grape\",\n",
       " 'Ratatouille',\n",
       " 'Lilo & Stitch',\n",
       " 'Edge of Tomorrow',\n",
       " 'The Grand Budapest Hotel',\n",
       " 'Como agua para chocolate',\n",
       " 'Blade Runner 2049',\n",
       " 'Harry Potter and the Deathly Hallows: Part 2',\n",
       " 'Inception',\n",
       " 'Star Wars: Episode III - Revenge of the Sith',\n",
       " \"A Bug's Life\",\n",
       " 'The Lord of the Rings: The Fellowship of the Ring',\n",
       " 'Logan',\n",
       " 'The Simpsons Movie',\n",
       " 'Elf']"
      ]
     },
     "execution_count": 14,
     "metadata": {},
     "output_type": "execute_result"
    }
   ],
   "source": [
    "# my top 50 movies I guess\n",
    "top_50 = seen_ratings.sort_values(by='personalRating', ascending=False).head(50)['tconst']\n",
    "names_50 = []\n",
    "for x in top_50:\n",
    "    names_50.append(get_title(x))\n",
    "names_50"
   ]
  },
  {
   "cell_type": "code",
   "execution_count": null,
   "metadata": {},
   "outputs": [],
   "source": []
  }
 ],
 "metadata": {
  "kernelspec": {
   "display_name": "Python 3",
   "language": "python",
   "name": "python3"
  },
  "language_info": {
   "codemirror_mode": {
    "name": "ipython",
    "version": 3
   },
   "file_extension": ".py",
   "mimetype": "text/x-python",
   "name": "python",
   "nbconvert_exporter": "python",
   "pygments_lexer": "ipython3",
   "version": "3.8.3"
  }
 },
 "nbformat": 4,
 "nbformat_minor": 4
}
